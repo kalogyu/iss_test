{
 "cells": [
  {
   "cell_type": "markdown",
   "metadata": {},
   "source": [
    "## Example of collecting data from CARLA"
   ]
  },
  {
   "cell_type": "code",
   "execution_count": null,
   "metadata": {},
   "outputs": [],
   "source": [
    "import carla\n",
    "import numpy as np\n",
    "client = carla.Client('localhost', 2000)\n",
    "client.set_timeout(2.0)\n",
    "world = client.get_world()\n",
    "map = world.get_map()\n",
    "spawn_points = map.get_spawn_points()\n",
    "settings = world.get_settings()\n",
    "ego_vehicle = None\n",
    "imu_sensor = None\n",
    "gnss_sensor = None\n",
    "t = []\n",
    "gt_p = []\n",
    "gnss_data = []\n",
    "imu_data = []\n",
    "\n",
    "try:\n",
    "    settings.synchronous_mode = True\n",
    "    settings.fixed_delta_seconds = 0.005\n",
    "    world.apply_settings(settings)\n",
    "    spectator = world.get_spectator()\n",
    "    spectator.set_transform(carla.Transform(spawn_points[0].location + carla.Location(z=50), carla.Rotation(pitch=-90)))\n",
    "    tesla_model_3 = world.get_blueprint_library().filter('model3')[0]\n",
    "    ego_vehicle = world.spawn_actor(tesla_model_3, spawn_points[0])\n",
    "    \n",
    "    gnss_sensor = world.get_blueprint_library().find('sensor.other.gnss')\n",
    "    gnss_sensor.set_attribute('sensor_tick', '0.1')\n",
    "    gnss_sensor_transform = carla.Transform(carla.Location(x=1.0, z=2.8))\n",
    "    gnss_sensor = world.spawn_actor(gnss_sensor, gnss_sensor_transform, attach_to=ego_vehicle)\n",
    "    def gnss_callback(data):\n",
    "        gnss_data.append([data.latitude, data.longitude, data.altitude])\n",
    "    gnss_sensor.listen(lambda data: gnss_callback(data))\n",
    "    \n",
    "    imu_sensor = world.get_blueprint_library().find('sensor.other.imu')\n",
    "    imu_sensor.set_attribute('sensor_tick', '0.1')\n",
    "    imu_sensor_transform = carla.Transform(carla.Location(x=1.0, z=1.8))\n",
    "    imu_sensor = world.spawn_actor(imu_sensor, imu_sensor_transform, attach_to=ego_vehicle)\n",
    "    def imu_callback(data):\n",
    "        imu_data.append([data.accelerometer.x, data.accelerometer.y, data.accelerometer.z, data.gyroscope.x, data.gyroscope.y, data.gyroscope.z])\n",
    "    imu_sensor.listen(lambda data: imu_callback(data))\n",
    "    \n",
    "    world.tick()\n",
    "\n",
    "    t.clear()\n",
    "    gt_p.clear()\n",
    "    gnss_data.clear()\n",
    "    imu_data.clear()\n",
    "\n",
    "    DURATION = 1\n",
    "    total_time_steps = DURATION / settings.fixed_delta_seconds\n",
    "    for i in range(int(total_time_steps)):\n",
    "        t.append(i * settings.fixed_delta_seconds)\n",
    "        loc = ego_vehicle.get_location()\n",
    "        gt_p.append([loc.x, loc.y, loc.z])\n",
    "        world.tick()\n",
    "except Exception as e:\n",
    "    print(e)\n",
    "finally:\n",
    "    settings.synchronous_mode = False\n",
    "    world.apply_settings(settings)\n",
    "    if ego_vehicle is not None:\n",
    "        ego_vehicle.destroy()\n",
    "    if gnss_sensor is not None:\n",
    "        gnss_sensor.destroy()\n",
    "    if imu_sensor is not None:\n",
    "        imu_sensor.destroy()"
   ]
  },
  {
   "cell_type": "code",
   "execution_count": null,
   "metadata": {},
   "outputs": [],
   "source": [
    "from data.data import Data\n",
    "from data.utils import StampedData\n",
    "created_gt_data = Data(t=np.array(t), p=np.array(gt_p))\n",
    "\n",
    "imu_data_stamped = StampedData()\n",
    "imu_data_stamped.t = t\n",
    "imu_data_stamped.data = imu_data\n",
    "\n",
    "gnss_data_stamped = StampedData()\n",
    "gnss_data_stamped.t = t\n",
    "gnss_data_stamped.data = gnss_data"
   ]
  }
 ],
 "metadata": {
  "kernelspec": {
   "display_name": "iss",
   "language": "python",
   "name": "python3"
  },
  "language_info": {
   "codemirror_mode": {
    "name": "ipython",
    "version": 3
   },
   "file_extension": ".py",
   "mimetype": "text/x-python",
   "name": "python",
   "nbconvert_exporter": "python",
   "pygments_lexer": "ipython3",
   "version": "3.8.18"
  }
 },
 "nbformat": 4,
 "nbformat_minor": 2
}
